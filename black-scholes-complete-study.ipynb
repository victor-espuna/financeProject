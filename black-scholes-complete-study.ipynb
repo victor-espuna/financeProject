{
 "cells": [
  {
   "cell_type": "markdown",
   "id": "a2cd1571",
   "metadata": {
    "papermill": {
     "duration": 0.004045,
     "end_time": "2022-08-05T21:11:07.120731",
     "exception": false,
     "start_time": "2022-08-05T21:11:07.116686",
     "status": "completed"
    },
    "tags": []
   },
   "source": [
    "# Import Library"
   ]
  },
  {
   "cell_type": "raw",
   "id": "40852ab9",
   "metadata": {
    "_cell_guid": "b1076dfc-b9ad-4769-8c92-a6c4dae69d19",
    "_uuid": "8f2839f25d086af736a60e9eeb907d3b93b6e0e5",
    "papermill": {
     "duration": 0.002523,
     "end_time": "2022-08-05T21:11:07.126272",
     "exception": false,
     "start_time": "2022-08-05T21:11:07.123749",
     "status": "completed"
    },
    "tags": []
   },
   "source": [
    "import numpy as np\n",
    "import plotly.express as px\n",
    "import plotly.graph_objects as go\n",
    "\n",
    "from math import sqrt\n",
    "from scipy.stats import norm\n",
    "\n",
    "N = norm.cdf"
   ]
  },
  {
   "cell_type": "markdown",
   "id": "a22c2dd9",
   "metadata": {
    "papermill": {
     "duration": 0.002434,
     "end_time": "2022-08-05T21:11:07.131500",
     "exception": false,
     "start_time": "2022-08-05T21:11:07.129066",
     "status": "completed"
    },
    "tags": []
   },
   "source": [
    "# Option Pricing with Black-Scholes Model"
   ]
  },
  {
   "cell_type": "markdown",
   "id": "40488740",
   "metadata": {
    "papermill": {
     "duration": 0.002428,
     "end_time": "2022-08-05T21:11:07.136632",
     "exception": false,
     "start_time": "2022-08-05T21:11:07.134204",
     "status": "completed"
    },
    "tags": []
   },
   "source": [
    "**Assumption from Black-Scholes Model:**\n",
    "* No dividends are paid out during the life of the option\n",
    "* Markets are random \n",
    "* No transaction costs when buying the option\n",
    "* Risk-Free Rate and volatility of underlying asset are known and constant\n",
    "* Returns of underlying asset are normally distributed\n",
    "* Option is European"
   ]
  },
  {
   "cell_type": "code",
   "execution_count": 1,
   "id": "57a22c1b",
   "metadata": {
    "execution": {
     "iopub.execute_input": "2022-08-05T21:11:07.144539Z",
     "iopub.status.busy": "2022-08-05T21:11:07.143391Z",
     "iopub.status.idle": "2022-08-05T21:11:07.163595Z",
     "shell.execute_reply": "2022-08-05T21:11:07.162832Z"
    },
    "papermill": {
     "duration": 0.026682,
     "end_time": "2022-08-05T21:11:07.165987",
     "exception": false,
     "start_time": "2022-08-05T21:11:07.139305",
     "status": "completed"
    },
    "tags": []
   },
   "outputs": [],
   "source": [
    "class BS_Option_Pricing:\n",
    "\n",
    "    def __init__(self, spot, strike, maturity, rate, vol, dividend: float = None):\n",
    "        self.spot = spot\n",
    "        self.strike = strike\n",
    "        self.maturity = maturity\n",
    "        self.rate = rate\n",
    "        self.vol = vol\n",
    "        self.div = dividend\n",
    "\n",
    "    def d1(self, add_vol: int = None):\n",
    "        vol = add_vol if add_vol else self.vol\n",
    "        return (np.log((np.exp(-self.div * self.maturity) if self.div else 1) * self.spot / self.strike)\n",
    "                + (self.rate + vol ** 2 / 2) * self.maturity) / (vol * np.sqrt(self.maturity))\n",
    "\n",
    "    def d2(self, add_vol: int = None):\n",
    "        vol = add_vol if add_vol else self.vol\n",
    "        return self.d1() - vol * np.sqrt(self.maturity)\n",
    "\n",
    "    def call_price(self, add_vol: int = None):\n",
    "        return self.spot * norm.cdf(self.d1(add_vol)) * (np.exp(- self.div * self.maturity) if self.div else 1) - \\\n",
    "               self.strike * np.exp(-self.rate * self.maturity) * norm.cdf(self.d2(add_vol))\n",
    "\n",
    "    def put_price(self, add_vol: int = None):\n",
    "        return self.strike * np.exp(-self.rate * self.maturity) * norm.cdf(-self.d2(add_vol)) - self.spot * norm.cdf(\n",
    "            -self.d1(add_vol) * (np.exp(- self.div * self.maturity) if self.div else 1))\n",
    "\n",
    "    def call_implied_vol(self, target_price: int, tol: int = .001):\n",
    "        sigma = tol\n",
    "        while sigma < 1:\n",
    "            temp_price = self.call_price(sigma)\n",
    "            if abs(target_price - temp_price) < tol:\n",
    "                return sigma\n",
    "            else:\n",
    "                sigma += tol\n",
    "        return \"Error when solving!\"\n",
    "\n",
    "    def put_implied_vol(self, target_price: int, tol: int = .001):\n",
    "        sigma = tol\n",
    "        while sigma < 1:\n",
    "            temp_price = self.put_price(sigma)\n",
    "            if abs(target_price - temp_price) < tol:\n",
    "                return sigma\n",
    "            else:\n",
    "                sigma += tol\n",
    "        return \"Error when solving!\"\n"
   ]
  },
  {
   "cell_type": "markdown",
   "id": "32638ca6",
   "metadata": {
    "papermill": {
     "duration": 0.002669,
     "end_time": "2022-08-05T21:11:07.171741",
     "exception": false,
     "start_time": "2022-08-05T21:11:07.169072",
     "status": "completed"
    },
    "tags": []
   },
   "source": [
    "# Greek from Option Study"
   ]
  },
  {
   "cell_type": "code",
   "execution_count": 2,
   "id": "97ff34f9",
   "metadata": {
    "execution": {
     "iopub.execute_input": "2022-08-05T21:11:07.179239Z",
     "iopub.status.busy": "2022-08-05T21:11:07.178258Z",
     "iopub.status.idle": "2022-08-05T21:11:07.192867Z",
     "shell.execute_reply": "2022-08-05T21:11:07.192099Z"
    },
    "papermill": {
     "duration": 0.020429,
     "end_time": "2022-08-05T21:11:07.194891",
     "exception": false,
     "start_time": "2022-08-05T21:11:07.174462",
     "status": "completed"
    },
    "tags": []
   },
   "outputs": [],
   "source": [
    "class Greek(BS_Option_Pricing):\n",
    "\n",
    "    def __init__(self, spot, strike, maturity, rate, vol, dividend: float = None):\n",
    "        BS_Option_Pricing.__init__(self, spot, strike, maturity, rate, vol, dividend)\n",
    "\n",
    "    def call_delta(self):\n",
    "        return norm.cdf(self.d1())\n",
    "\n",
    "    def put_delta(self):\n",
    "        return -norm.cdf(-self.d1())\n",
    "\n",
    "    def call_gamma(self):\n",
    "        return norm.pdf(self.d1()) / (self.spot * self.vol * sqrt(self.maturity))\n",
    "\n",
    "    def put_gamma(self):\n",
    "        return self.call_gamma()\n",
    "\n",
    "    def call_vega(self):\n",
    "        return self.spot * np.sqrt(self.maturity) * norm.pdf(self.d1())\n",
    "\n",
    "    def put_vega(self):\n",
    "        return self.call_vega()\n",
    "\n",
    "    def call_theta(self):\n",
    "        return - ((self.spot * norm.pdf(self.d1()) * self.vol) / (\n",
    "                    2 * self.maturity)) - self.rate * self.strike * np.exp(\n",
    "            - self.rate * self.maturity) * norm.cdf(self.d2())\n",
    "\n",
    "    def put_theta(self):\n",
    "        return - ((self.spot * norm.pdf(self.d1()) * self.vol) / (\n",
    "                    2 * self.maturity)) + self.rate * self.strike * np.exp(\n",
    "            - self.rate * self.maturity) * norm.cdf(self.d2())\n",
    "\n",
    "    def call_rho(self):\n",
    "        return self.strike * self.maturity * np.exp(- self.rate * self.maturity) * norm.cdf(self.d2())\n",
    "\n",
    "    def put_rho(self):\n",
    "        return self.strike * self.maturity * np.exp(- self.rate * self.maturity) * norm.cdf(self.d2())\n",
    "\n",
    "    \"ADD EXOTIC GREEKS?\"\n",
    "\n",
    "    def get_details(self, kind: str):\n",
    "        full_info = {\n",
    "            \"Option Price\": self.call_price() if kind == \"call\" else self.put_price(),\n",
    "            \"Option Delta\": self.call_delta() if kind == \"call\" else self.put_delta(),\n",
    "            \"Option Gamma\": self.call_gamma() if kind == \"call\" else self.put_gamma(),\n",
    "            \"Option Vega\": self.call_vega() if kind == \"call\" else self.put_vega(),\n",
    "            \"Option Theta\": self.call_theta() if kind == \"call\" else self.put_theta(),\n",
    "            \"Option Rho\": self.call_rho() if kind == \"call\" else self.put_rho()\n",
    "        }\n",
    "        return full_info\n"
   ]
  },
  {
   "cell_type": "markdown",
   "id": "3af285ae",
   "metadata": {
    "papermill": {
     "duration": 0.002543,
     "end_time": "2022-08-05T21:11:07.200393",
     "exception": false,
     "start_time": "2022-08-05T21:11:07.197850",
     "status": "completed"
    },
    "tags": []
   },
   "source": [
    "# Main strategies payoff overview"
   ]
  },
  {
   "cell_type": "code",
   "execution_count": 3,
   "id": "f6e2907c",
   "metadata": {
    "execution": {
     "iopub.execute_input": "2022-08-05T21:11:07.207794Z",
     "iopub.status.busy": "2022-08-05T21:11:07.207134Z",
     "iopub.status.idle": "2022-08-05T21:11:07.232186Z",
     "shell.execute_reply": "2022-08-05T21:11:07.231263Z"
    },
    "papermill": {
     "duration": 0.031373,
     "end_time": "2022-08-05T21:11:07.234549",
     "exception": false,
     "start_time": "2022-08-05T21:11:07.203176",
     "status": "completed"
    },
    "tags": []
   },
   "outputs": [],
   "source": [
    "class Strategies_payoffs(BS_Option_Pricing):\n",
    "\n",
    "    def __init__(self, spot, strike, maturity, rate, vol, dividend: float = None):\n",
    "        BS_Option_Pricing.__init__(self, spot, strike, maturity, rate, vol, dividend)\n",
    "\n",
    "\n",
    "    def simple_option(self, option_type: str = \"put\", kind: str = \"short\"):\n",
    "        option_price = BS_Option_Pricing.put_price(self) if option_type == \"put\" else BS_Option_Pricing.call_price(self)\n",
    "        payoff = np.max(self.spot - self.strike, -option_price) if option_type == \"call\" else np.max(self.strike - self.spot, - option_price)\n",
    "        return payoff if kind == \"long\" else - payoff\n",
    "\n",
    "    def bull_spread(self):\n",
    "        return self.simple_option(\"call\", \"long\") + self.simple_option(\"call\", \"short\")\n",
    "\n",
    "    def straddle(self, kind: str = \"short\"):\n",
    "        put = BS_Option_Pricing.call_price(self)\n",
    "        call = BS_Option_Pricing.put_price(self)\n",
    "        abs_payoff = put + call\n",
    "        return abs_payoff if kind == \"long\" else - abs_payoff\n",
    "\n",
    "    def strangle(self, strike2: float, kind: str = \"short\"):\n",
    "        if not (self.strike < strike2):\n",
    "            print(\"Second Asset should have strike price lower than first one!\")\n",
    "            pass\n",
    "        else:\n",
    "            put = BS_Option_Pricing.put_price(self)\n",
    "            call = BS_Option_Pricing(self.spot, strike2, self.maturity, self.rate, self.vol).call_price()\n",
    "            abs_payoff = put + call\n",
    "            return abs_payoff if kind == \"long\" else - abs_payoff\n",
    "\n",
    "    def butterfly(self, strike2: float, strike3: float, kind: str = \"short\"):\n",
    "        if not (self.strike < strike2 < strike3):\n",
    "            print(\"We need Strike1 < Strike2 < Strike3\")\n",
    "        else:\n",
    "            option1 = BS_Option_Pricing.call_price(self) if kind == \"long\" else BS_Option_Pricing.put_price(self)\n",
    "            option2 = BS_Option_Pricing(self.spot, strike2, self.maturity, self.rate, self.vol).call_price() if kind == \"long\" else \\\n",
    "                      BS_Option_Pricing(self.spot, strike2, self.maturity, self.rate, self.vol).put_price()\n",
    "            option3 = BS_Option_Pricing(self.spot, strike3, self.maturity, self.rate,self.vol).call_price() if kind == \"long\" else \\\n",
    "                      BS_Option_Pricing(self.spot, strike3, self.maturity, self.rate, self.vol).put_price()\n",
    "            abs_payoff = option1 - 2 * option2 + option3\n",
    "            return abs_payoff if kind == \"long\" else - abs_payoff\n",
    "\n",
    "    def condor(self, strike2: float, strike3: float, strike4: float, kind: str = \"short\"):\n",
    "        if not (self.strike < strike2 < strike3 < strike4):\n",
    "            print(\"We need Strike1 < Strike2 < Strike3 < Strike4\")\n",
    "        else:\n",
    "            option1 = BS_Option_Pricing.put_price(self) if kind == \"long\" else BS_Option_Pricing.call_price(self)\n",
    "            option2 = BS_Option_Pricing(self.spot, strike2, self.maturity, self.rate, self.vol).put_price() if kind == \"long\" else \\\n",
    "                      BS_Option_Pricing(self.spot, strike2, self.maturity, self.rate, self.vol).call_price()\n",
    "            option3 = BS_Option_Pricing(self.spot, strike3, self.maturity, self.rate,self.vol).call_price() if kind == \"long\" else \\\n",
    "                      BS_Option_Pricing(self.spot, strike3, self.maturity, self.rate, self.vol).put_price()\n",
    "            option4 = BS_Option_Pricing(self.spot, strike4, self.maturity, self.rate,self.vol).call_price() if kind == \"long\" else \\\n",
    "                      BS_Option_Pricing(self.spot, strike4, self.maturity, self.rate, self.vol).put_price()\n",
    "            abs_payoff = - option1 + option2 + option3 - option4\n",
    "            return abs_payoff if kind == \"long\" else - abs_payoff\n"
   ]
  },
  {
   "cell_type": "code",
   "execution_count": null,
   "id": "ed25c354",
   "metadata": {
    "papermill": {
     "duration": 0.00261,
     "end_time": "2022-08-05T21:11:07.240180",
     "exception": false,
     "start_time": "2022-08-05T21:11:07.237570",
     "status": "completed"
    },
    "tags": []
   },
   "outputs": [],
   "source": []
  }
 ],
 "metadata": {
  "kernelspec": {
   "display_name": "Python 3",
   "language": "python",
   "name": "python3"
  },
  "language_info": {
   "codemirror_mode": {
    "name": "ipython",
    "version": 3
   },
   "file_extension": ".py",
   "mimetype": "text/x-python",
   "name": "python",
   "nbconvert_exporter": "python",
   "pygments_lexer": "ipython3",
   "version": "3.7.12"
  },
  "papermill": {
   "default_parameters": {},
   "duration": 10.110808,
   "end_time": "2022-08-05T21:11:07.865901",
   "environment_variables": {},
   "exception": null,
   "input_path": "__notebook__.ipynb",
   "output_path": "__notebook__.ipynb",
   "parameters": {},
   "start_time": "2022-08-05T21:10:57.755093",
   "version": "2.3.4"
  }
 },
 "nbformat": 4,
 "nbformat_minor": 5
}
