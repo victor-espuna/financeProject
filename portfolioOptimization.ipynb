{
 "cells": [
  {
   "cell_type": "markdown",
   "source": [
    "# Import Librairy"
   ],
   "metadata": {
    "collapsed": false,
    "pycharm": {
     "name": "#%% md\n"
    }
   }
  },
  {
   "cell_type": "code",
   "execution_count": null,
   "outputs": [],
   "source": [
    "import pandas as pd\n",
    "import numpy as np\n",
    "import yfinance as yf\n",
    "from tqdm import tqdm\n",
    "import matplotlib.pyplot as plt"
   ],
   "metadata": {
    "collapsed": false,
    "pycharm": {
     "name": "#%%\n"
    }
   }
  },
  {
   "cell_type": "markdown",
   "source": [
    "# Download financial data"
   ],
   "metadata": {
    "collapsed": false,
    "pycharm": {
     "name": "#%% md\n"
    }
   }
  },
  {
   "cell_type": "code",
   "execution_count": null,
   "outputs": [],
   "source": [
    "def get_financial_data(company: list, period: str, interval: str):\n",
    "    data = yf.download(tickers=' '.join(company),\n",
    "                       period=period,\n",
    "                       interval=interval,\n",
    "                       group_by='columns',\n",
    "                       auto_adjust=True,\n",
    "                       prepost=True,\n",
    "                       threads=True,\n",
    "                       proxy=None)\n",
    "    data = data.loc[:,data.columns.get_level_values(1).isin({\"Close\"})].droplevel(1, axis=1)\n",
    "    return data"
   ],
   "metadata": {
    "collapsed": false,
    "pycharm": {
     "name": "#%%\n"
    }
   }
  },
  {
   "cell_type": "markdown",
   "source": [
    "# Build Portfolio Optimization"
   ],
   "metadata": {
    "collapsed": false,
    "pycharm": {
     "name": "#%% md\n"
    }
   }
  },
  {
   "cell_type": "code",
   "execution_count": null,
   "outputs": [],
   "source": [
    "def sharpe_ratio_portfolio(data: pd.DataFrame, weight: np.array, risk_free_rate: float):\n",
    "    log_return = np.log(1 + data.pct_change())\n",
    "    expected_return = np.sum(log_return.mean() * weight * 252)\n",
    "    expected_volatility = np.sqrt(\n",
    "        np.dot(\n",
    "            weight.T,\n",
    "            np.dot(\n",
    "                log_return.cov() * 252,\n",
    "                weight\n",
    "            )\n",
    "        )\n",
    "    )\n",
    "    sharpe = (expected_return - risk_free_rate) / expected_volatility\n",
    "    return expected_return, expected_volatility, sharpe\n",
    "\n",
    "def MC_weight_sim(data: pd.DataFrame, risk_free_rate: float, N_sim: int, as_df: bool):\n",
    "    size_of_portfolio = data.shape[1]\n",
    "    sim_weights = np.zeros((N_sim, size_of_portfolio))\n",
    "    sim_returns, sim_vol, sim_sharpe = np.zeros((N_sim, 1)), np.zeros((N_sim, 1)), np.zeros((N_sim, 1))\n",
    "    for i in tqdm(range(N_sim)):\n",
    "        weight = np.array(np.random.random(size_of_portfolio))\n",
    "        exp_return, exp_vol, sharpe = sharpe_ratio_portfolio(data, weight, risk_free_rate)\n",
    "        weights = weight / np.sum(weight)\n",
    "        sim_weights[i, :] = weights\n",
    "        sim_returns[i, :] = exp_return\n",
    "        sim_vol[i, :] = exp_vol\n",
    "        sim_sharpe[i, :] = sharpe\n",
    "    global_result = np.concatenate((sim_weights, sim_returns, sim_vol, sim_sharpe), axis=1)\n",
    "    if not as_df:\n",
    "        return global_result\n",
    "    else:\n",
    "        col = [f\"W{i + 1}\" for i in range(size_of_portfolio)]\n",
    "        col.extend([\"Return\", \"Volatility\", \"Sharpe\"])\n",
    "        result_df = pd.DataFrame(\n",
    "            data=global_result,\n",
    "            columns=col\n",
    "        )\n",
    "        return result_df\n",
    "\n",
    "def MC_sim_summary(data: pd.DataFrame, risk_free_rate: float, N_sim: int):\n",
    "    all_sim = MC_weight_sim(data, risk_free_rate, N_sim, True)\n",
    "    max_sharpe = all_sim.loc[all_sim[\"Sharpe\"] == all_sim[\"Sharpe\"].max()]\n",
    "    min_volatility = all_sim.loc[all_sim[\"Volatility\"] == all_sim[\"Volatility\"].min()]\n",
    "    print(max_sharpe)\n",
    "    print(min_volatility)\n",
    "    plt.scatter(all_sim[\"Sharpe\"], all_sim[\"Volatility\"])\n",
    "    plt.show()"
   ],
   "metadata": {
    "collapsed": false,
    "pycharm": {
     "name": "#%%\n"
    }
   }
  },
  {
   "cell_type": "markdown",
   "source": [
    "# Plot Simulation and show efficient frontier"
   ],
   "metadata": {
    "collapsed": false,
    "pycharm": {
     "name": "#%% md\n"
    }
   }
  },
  {
   "cell_type": "code",
   "execution_count": null,
   "outputs": [],
   "source": [
    "MC_sim_summary(get_financial_data([\"SPY\", \"AAPL\", \"MSFT\", \"AMZN\", \"TSLA\"], \"1y\", \"1d\"), 0.04, 10000)"
   ],
   "metadata": {
    "collapsed": false,
    "pycharm": {
     "name": "#%%\n"
    }
   }
  }
 ],
 "metadata": {
  "kernelspec": {
   "display_name": "Python 3",
   "language": "python",
   "name": "python3"
  },
  "language_info": {
   "codemirror_mode": {
    "name": "ipython",
    "version": 2
   },
   "file_extension": ".py",
   "mimetype": "text/x-python",
   "name": "python",
   "nbconvert_exporter": "python",
   "pygments_lexer": "ipython2",
   "version": "2.7.6"
  }
 },
 "nbformat": 4,
 "nbformat_minor": 0
}