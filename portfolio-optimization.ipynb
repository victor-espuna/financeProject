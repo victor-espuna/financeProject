{
 "cells": [
  {
   "cell_type": "code",
   "execution_count": 1,
   "id": "ef376e50",
   "metadata": {
    "_cell_guid": "b1076dfc-b9ad-4769-8c92-a6c4dae69d19",
    "_uuid": "8f2839f25d086af736a60e9eeb907d3b93b6e0e5",
    "execution": {
     "iopub.execute_input": "2022-08-05T23:18:10.641841Z",
     "iopub.status.busy": "2022-08-05T23:18:10.641389Z",
     "iopub.status.idle": "2022-08-05T23:18:36.958058Z",
     "shell.execute_reply": "2022-08-05T23:18:36.955936Z"
    },
    "papermill": {
     "duration": 26.326028,
     "end_time": "2022-08-05T23:18:36.961665",
     "exception": false,
     "start_time": "2022-08-05T23:18:10.635637",
     "status": "completed"
    },
    "tags": []
   },
   "outputs": [
    {
     "name": "stdout",
     "output_type": "stream",
     "text": [
      "Requirement already satisfied: tqdm in /opt/conda/lib/python3.7/site-packages (4.64.0)\r\n",
      "\u001b[33mWARNING: Running pip as the 'root' user can result in broken permissions and conflicting behaviour with the system package manager. It is recommended to use a virtual environment instead: https://pip.pypa.io/warnings/venv\u001b[0m\u001b[33m\r\n",
      "\u001b[0mCollecting yfinance\r\n",
      "  Downloading yfinance-0.1.74-py2.py3-none-any.whl (27 kB)\r\n",
      "Requirement already satisfied: numpy>=1.15 in /opt/conda/lib/python3.7/site-packages (from yfinance) (1.21.6)\r\n",
      "Requirement already satisfied: pandas>=0.24.0 in /opt/conda/lib/python3.7/site-packages (from yfinance) (1.3.5)\r\n",
      "Collecting multitasking>=0.0.7\r\n",
      "  Downloading multitasking-0.0.11-py3-none-any.whl (8.5 kB)\r\n",
      "Requirement already satisfied: lxml>=4.5.1 in /opt/conda/lib/python3.7/site-packages (from yfinance) (4.9.1)\r\n",
      "Requirement already satisfied: requests>=2.26 in /opt/conda/lib/python3.7/site-packages (from yfinance) (2.28.1)\r\n",
      "Requirement already satisfied: python-dateutil>=2.7.3 in /opt/conda/lib/python3.7/site-packages (from pandas>=0.24.0->yfinance) (2.8.2)\r\n",
      "Requirement already satisfied: pytz>=2017.3 in /opt/conda/lib/python3.7/site-packages (from pandas>=0.24.0->yfinance) (2022.1)\r\n",
      "Requirement already satisfied: urllib3<1.27,>=1.21.1 in /opt/conda/lib/python3.7/site-packages (from requests>=2.26->yfinance) (1.26.9)\r\n",
      "Requirement already satisfied: certifi>=2017.4.17 in /opt/conda/lib/python3.7/site-packages (from requests>=2.26->yfinance) (2022.6.15)\r\n",
      "Requirement already satisfied: idna<4,>=2.5 in /opt/conda/lib/python3.7/site-packages (from requests>=2.26->yfinance) (3.3)\r\n",
      "Requirement already satisfied: charset-normalizer<3,>=2 in /opt/conda/lib/python3.7/site-packages (from requests>=2.26->yfinance) (2.1.0)\r\n",
      "Requirement already satisfied: six>=1.5 in /opt/conda/lib/python3.7/site-packages (from python-dateutil>=2.7.3->pandas>=0.24.0->yfinance) (1.16.0)\r\n",
      "Installing collected packages: multitasking, yfinance\r\n",
      "Successfully installed multitasking-0.0.11 yfinance-0.1.74\r\n",
      "\u001b[33mWARNING: Running pip as the 'root' user can result in broken permissions and conflicting behaviour with the system package manager. It is recommended to use a virtual environment instead: https://pip.pypa.io/warnings/venv\u001b[0m\u001b[33m\r\n",
      "\u001b[0m"
     ]
    }
   ],
   "source": [
    "!pip install tqdm\n",
    "!pip install yfinance"
   ]
  },
  {
   "cell_type": "code",
   "execution_count": 2,
   "id": "526e15fe",
   "metadata": {
    "execution": {
     "iopub.execute_input": "2022-08-05T23:18:36.972915Z",
     "iopub.status.busy": "2022-08-05T23:18:36.972463Z",
     "iopub.status.idle": "2022-08-05T23:18:37.000412Z",
     "shell.execute_reply": "2022-08-05T23:18:36.999333Z"
    },
    "papermill": {
     "duration": 0.037458,
     "end_time": "2022-08-05T23:18:37.003336",
     "exception": false,
     "start_time": "2022-08-05T23:18:36.965878",
     "status": "completed"
    },
    "tags": []
   },
   "outputs": [],
   "source": [
    "import pandas as pd\n",
    "import numpy as np\n",
    "import yfinance as yf\n",
    "from tqdm import tqdm"
   ]
  },
  {
   "cell_type": "code",
   "execution_count": 3,
   "id": "38f77b58",
   "metadata": {
    "execution": {
     "iopub.execute_input": "2022-08-05T23:18:37.013201Z",
     "iopub.status.busy": "2022-08-05T23:18:37.012753Z",
     "iopub.status.idle": "2022-08-05T23:18:37.022769Z",
     "shell.execute_reply": "2022-08-05T23:18:37.021323Z"
    },
    "papermill": {
     "duration": 0.019049,
     "end_time": "2022-08-05T23:18:37.026298",
     "exception": false,
     "start_time": "2022-08-05T23:18:37.007249",
     "status": "completed"
    },
    "tags": []
   },
   "outputs": [],
   "source": [
    "def get_financial_data(company: list, period: str, interval: str):\n",
    "    data = yf.download(tickers=\"SPY AAPL MSFT AMZN\",\n",
    "                       period=\"1d\",\n",
    "                       interval=\"1m\",\n",
    "                       group_by='columns',\n",
    "                       auto_adjust=True,\n",
    "                       prepost=True,\n",
    "                       threads=True,\n",
    "                       proxy=None)\n",
    "    data = data.loc[:,data.columns.get_level_values(1).isin({\"Close\"})].droplevel(1, axis=1)\n",
    "    return data\n"
   ]
  },
  {
   "cell_type": "code",
   "execution_count": 4,
   "id": "f53ea3d4",
   "metadata": {
    "execution": {
     "iopub.execute_input": "2022-08-05T23:18:37.037289Z",
     "iopub.status.busy": "2022-08-05T23:18:37.036775Z",
     "iopub.status.idle": "2022-08-05T23:18:37.045672Z",
     "shell.execute_reply": "2022-08-05T23:18:37.043838Z"
    },
    "papermill": {
     "duration": 0.01827,
     "end_time": "2022-08-05T23:18:37.048867",
     "exception": false,
     "start_time": "2022-08-05T23:18:37.030597",
     "status": "completed"
    },
    "tags": []
   },
   "outputs": [],
   "source": [
    "def sharpe_ratio_portfolio(data: pd.DataFrame, weight: np.array, risk_free_rate: float):\n",
    "        log_return = np.log(1 + data.pct_change())\n",
    "        expected_return = np.sum(log_return.mean() * weight * 252)\n",
    "        expected_volatility = np.sqrt(\n",
    "                np.dot(\n",
    "                       weight.T,\n",
    "                       np.dot(\n",
    "                               log_return.cov() * 252,\n",
    "                               weight\n",
    "                       )\n",
    "                )\n",
    "        )\n",
    "        sharpe = (expected_return - risk_free_rate) / expected_volatility\n",
    "        return expected_return, expected_volatility, sharpe"
   ]
  },
  {
   "cell_type": "code",
   "execution_count": 5,
   "id": "be859f49",
   "metadata": {
    "execution": {
     "iopub.execute_input": "2022-08-05T23:18:37.059110Z",
     "iopub.status.busy": "2022-08-05T23:18:37.058656Z",
     "iopub.status.idle": "2022-08-05T23:18:37.069839Z",
     "shell.execute_reply": "2022-08-05T23:18:37.068423Z"
    },
    "papermill": {
     "duration": 0.0208,
     "end_time": "2022-08-05T23:18:37.073576",
     "exception": false,
     "start_time": "2022-08-05T23:18:37.052776",
     "status": "completed"
    },
    "tags": []
   },
   "outputs": [],
   "source": [
    "def MC_weight_sim(data: pd.DataFrame, risk_free_rate: float, N_sim: int, as_df: bool):\n",
    "        size_of_portfolio = data.shape[1]\n",
    "        sim_weights = np.zeros((N_sim, size_of_portfolio))\n",
    "        sim_returns, sim_vol, sim_sharpe = np.zeros((N_sim,1)), np.zeros((N_sim,1)), np.zeros((N_sim,1))\n",
    "        for i in tqdm(range(N_sim)):\n",
    "                weight = np.array(np.random.random(size_of_portfolio))\n",
    "                exp_return, exp_vol, sharpe = sharpe_ratio_portfolio(data, weight, risk_free_rate)\n",
    "                weights = weight / np.sum(weight)\n",
    "                sim_weights[i, :] = weights\n",
    "                sim_returns[i, :] = exp_return\n",
    "                sim_vol[i, :] = exp_vol\n",
    "                sim_sharpe[i, :] = sharpe\n",
    "        global_result = np.concatenate((sim_weights, sim_returns, sim_vol, sim_sharpe), axis=1)\n",
    "        if not as_df:\n",
    "                return global_result\n",
    "        else:\n",
    "                result_df = pd.DataFrame(\n",
    "                        data=global_result,\n",
    "                        columns=[\"W1\", \"W2\", \"W3\", \"W4\", \"Return\", \"Volatility\", \"Sharpe\"]\n",
    "                )\n",
    "                return result_df"
   ]
  },
  {
   "cell_type": "code",
   "execution_count": 6,
   "id": "6d4e5599",
   "metadata": {
    "execution": {
     "iopub.execute_input": "2022-08-05T23:18:37.085981Z",
     "iopub.status.busy": "2022-08-05T23:18:37.085535Z",
     "iopub.status.idle": "2022-08-05T23:18:37.093955Z",
     "shell.execute_reply": "2022-08-05T23:18:37.092388Z"
    },
    "papermill": {
     "duration": 0.018754,
     "end_time": "2022-08-05T23:18:37.097123",
     "exception": false,
     "start_time": "2022-08-05T23:18:37.078369",
     "status": "completed"
    },
    "tags": []
   },
   "outputs": [],
   "source": [
    "def MC_sim_summary(data: pd.DataFrame, risk_free_rate: float, N_sim: int):\n",
    "    all_sim = MC_weight_sim(data, risk_free_rate, N_sim, True)\n",
    "    max_sharpe = all_sim.loc[all_sim[\"Sharpe\"] == all_sim[\"Sharpe\"].max()]\n",
    "    min_volatility = all_sim.loc[all_sim[\"Volatility\"] == all_sim[\"Volatility\"].min()]\n",
    "    print(max_sharpe)\n",
    "    print(min_volatility)"
   ]
  },
  {
   "cell_type": "code",
   "execution_count": 7,
   "id": "5887d990",
   "metadata": {
    "execution": {
     "iopub.execute_input": "2022-08-05T23:18:37.109969Z",
     "iopub.status.busy": "2022-08-05T23:18:37.109340Z",
     "iopub.status.idle": "2022-08-05T23:18:37.822933Z",
     "shell.execute_reply": "2022-08-05T23:18:37.821807Z"
    },
    "papermill": {
     "duration": 0.724037,
     "end_time": "2022-08-05T23:18:37.826095",
     "exception": false,
     "start_time": "2022-08-05T23:18:37.102058",
     "status": "completed"
    },
    "tags": []
   },
   "outputs": [
    {
     "name": "stdout",
     "output_type": "stream",
     "text": [
      "[*********************100%***********************]  4 of 4 completed\n"
     ]
    },
    {
     "name": "stderr",
     "output_type": "stream",
     "text": [
      "100%|██████████| 100/100 [00:00<00:00, 372.88it/s]"
     ]
    },
    {
     "name": "stdout",
     "output_type": "stream",
     "text": [
      "          W1        W2        W3        W4    Return  Volatility    Sharpe\n",
      "62  0.283686  0.207779  0.292231  0.216305 -0.007813    0.032532 -1.469728\n",
      "          W1        W2        W3        W4    Return  Volatility     Sharpe\n",
      "25  0.051194  0.402146  0.184475  0.362185 -0.000754    0.003062 -13.308075\n"
     ]
    },
    {
     "name": "stderr",
     "output_type": "stream",
     "text": [
      "\n"
     ]
    }
   ],
   "source": [
    "MC_sim_summary(get_financial_data([\"SPY AAPL MSFT AMZN\"], \"1y\", \"1d\"), 0.04, 100)"
   ]
  },
  {
   "cell_type": "code",
   "execution_count": null,
   "id": "e9a12e48",
   "metadata": {
    "papermill": {
     "duration": 0.004753,
     "end_time": "2022-08-05T23:18:37.835268",
     "exception": false,
     "start_time": "2022-08-05T23:18:37.830515",
     "status": "completed"
    },
    "tags": []
   },
   "outputs": [],
   "source": []
  }
 ],
 "metadata": {
  "kernelspec": {
   "display_name": "Python 3",
   "language": "python",
   "name": "python3"
  },
  "language_info": {
   "codemirror_mode": {
    "name": "ipython",
    "version": 3
   },
   "file_extension": ".py",
   "mimetype": "text/x-python",
   "name": "python",
   "nbconvert_exporter": "python",
   "pygments_lexer": "ipython3",
   "version": "3.7.12"
  },
  "papermill": {
   "default_parameters": {},
   "duration": 39.431329,
   "end_time": "2022-08-05T23:18:38.565409",
   "environment_variables": {},
   "exception": null,
   "input_path": "__notebook__.ipynb",
   "output_path": "__notebook__.ipynb",
   "parameters": {},
   "start_time": "2022-08-05T23:17:59.134080",
   "version": "2.3.4"
  }
 },
 "nbformat": 4,
 "nbformat_minor": 5
}
