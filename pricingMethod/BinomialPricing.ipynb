{
 "cells": [
  {
   "cell_type": "markdown",
   "source": [
    "# Import Library"
   ],
   "metadata": {
    "collapsed": false,
    "pycharm": {
     "name": "#%% md\n"
    }
   }
  },
  {
   "cell_type": "code",
   "execution_count": 7,
   "metadata": {
    "collapsed": true,
    "pycharm": {
     "name": "#%%\n"
    }
   },
   "outputs": [
    {
     "name": "stdout",
     "output_type": "stream",
     "text": [
      "Collecting treelib\r\n",
      "  Using cached treelib-1.6.1.tar.gz (24 kB)\r\n",
      "Requirement already satisfied: future in /Users/tomdenice/opt/anaconda3/lib/python3.9/site-packages (from treelib) (0.18.2)\r\n",
      "Building wheels for collected packages: treelib\r\n",
      "  Building wheel for treelib (setup.py) ... \u001B[?25ldone\r\n",
      "\u001B[?25h  Created wheel for treelib: filename=treelib-1.6.1-py3-none-any.whl size=18385 sha256=2e354407b8a2392cac401b1914fb665586f42d1ea633d4bcab93725f260456f2\r\n",
      "  Stored in directory: /Users/tomdenice/Library/Caches/pip/wheels/43/de/32/fd270cc5f06de2bebcdaa666e9350b95f54d983212a7aba9ad\r\n",
      "Successfully built treelib\r\n",
      "Installing collected packages: treelib\r\n",
      "Successfully installed treelib-1.6.1\r\n",
      "Note: you may need to restart the kernel to use updated packages.\n"
     ]
    }
   ],
   "source": [
    "pip install -U treelib"
   ]
  },
  {
   "cell_type": "markdown",
   "source": [],
   "metadata": {
    "collapsed": false,
    "pycharm": {
     "name": "#%% md\n"
    }
   }
  },
  {
   "cell_type": "code",
   "execution_count": 8,
   "outputs": [],
   "source": [
    "from math import sqrt, exp\n",
    "from math import factorial as fact\n",
    "import numpy as np\n",
    "from scipy.stats import norm\n",
    "from treelib import Tree, Node"
   ],
   "metadata": {
    "collapsed": false,
    "pycharm": {
     "name": "#%%\n"
    }
   }
  },
  {
   "cell_type": "markdown",
   "source": [
    "# **General Option Class**"
   ],
   "metadata": {
    "collapsed": false,
    "pycharm": {
     "name": "#%% md\n"
    }
   }
  },
  {
   "cell_type": "code",
   "execution_count": 9,
   "outputs": [],
   "source": [
    "class Option:\n",
    "\n",
    "    def __init__(self, spot: float, strike: float, maturity: float, risk_free_rate: float, dividend: float,\n",
    "                 volatility: float, option_type: str, side: str):\n",
    "        self.spot = spot\n",
    "        self.strike = strike\n",
    "        self.mat = maturity\n",
    "        self.rate = risk_free_rate\n",
    "        self.div = dividend\n",
    "        self.vol = volatility\n",
    "        self.type = option_type\n",
    "        self.side = side"
   ],
   "metadata": {
    "collapsed": false,
    "pycharm": {
     "name": "#%%\n"
    }
   }
  },
  {
   "cell_type": "markdown",
   "source": [
    "# Option Pricing with Binomial Model"
   ],
   "metadata": {
    "collapsed": false,
    "pycharm": {
     "name": "#%% md\n"
    }
   }
  },
  {
   "cell_type": "code",
   "execution_count": 10,
   "outputs": [],
   "source": [
    "class Binomial_Option_Pricing(Option):\n",
    "\n",
    "    def __init__(self, spot, strike, maturity, rate, vol, option_type, side, period:int, dividend: float = None):\n",
    "        Option.__init__(self, spot, strike, maturity, rate, dividend, vol, option_type, side)\n",
    "        self.period = period\n",
    "        self.dt = maturity/period\n",
    "        self.u = np.exp(vol * np.sqrt(self.dt))\n",
    "        self.d = np.exp(-vol * np.sqrt(self.dt))\n",
    "        self.p = (np.exp(rate * self.dt) - self.d) / (self.u - self.d)\n",
    "\n",
    "    @staticmethod\n",
    "    def binom_coeff(n, k):\n",
    "        return fact(n) / (fact(n-k) * fact(k))\n",
    "\n",
    "    def stock_values(self):\n",
    "        return [self.spot * (self.u) ** i * (self.d) ** (self.period-i) for i in range(self.period + 1)]\n",
    "\n",
    "    def proba_issues(self):\n",
    "        return [self.binom_coeff(self.period, i) * (self.p) ** i * (1-self.p) ** (self.period - i) for i in range(self.period + 1)]\n",
    "\n",
    "    def payoff(self):\n",
    "        return [max(stock_val - self.strike, 0) if self.type == \"call\" else max(self.strike - stock_val, 0) for\n",
    "                stock_val in self.stock_values()]\n",
    "\n",
    "    def pricing(self):\n",
    "        price = 0\n",
    "        for i, j in zip(self.payoff(), self.proba_issues()):\n",
    "            price += i*j\n",
    "        return exp(-self.rate * self.mat) * price\n",
    "\n",
    "    def plot_tree(self):\n",
    "        tree = Tree()\n",
    "        tree.create_node(f\"Spot Price : {self.spot}\", \"parent\")\n",
    "        for i, j, k in zip(self.stock_values(), self.proba_issues(), self.payoff()):\n",
    "            tree.create_node(f\"S_t={round(i, 2)} - Payoff={round(k, 2)} - \"\n",
    "                             f\"Proba={round(j, 2)}\", f\"{i}\", parent=\"parent\")\n",
    "\n",
    "        tree.show()"
   ],
   "metadata": {
    "collapsed": false,
    "pycharm": {
     "name": "#%%\n"
    }
   }
  },
  {
   "cell_type": "markdown",
   "source": [
    "# Tree Plot with Binomial Model"
   ],
   "metadata": {
    "collapsed": false,
    "pycharm": {
     "name": "#%% md\n"
    }
   }
  },
  {
   "cell_type": "code",
   "execution_count": 11,
   "outputs": [
    {
     "name": "stdout",
     "output_type": "stream",
     "text": [
      "Spot Price : 50\n",
      "├── S_t=28.4 - Payoff=0 - Proba=0.0\n",
      "├── S_t=32.71 - Payoff=0 - Proba=0.02\n",
      "├── S_t=37.68 - Payoff=0 - Proba=0.09\n",
      "├── S_t=43.41 - Payoff=3.41 - Proba=0.19\n",
      "├── S_t=50.0 - Payoff=10.0 - Proba=0.27\n",
      "├── S_t=57.6 - Payoff=17.6 - Proba=0.24\n",
      "├── S_t=66.34 - Payoff=26.34 - Proba=0.13\n",
      "├── S_t=76.42 - Payoff=36.42 - Proba=0.04\n",
      "└── S_t=88.03 - Payoff=48.03 - Proba=0.01\n",
      "\n"
     ]
    }
   ],
   "source": [
    "derivatives = Binomial_Option_Pricing(50, 40, 1, 0.05, 0.2, \"call\", \"long\", 8, 0)\n",
    "derivatives.plot_tree()"
   ],
   "metadata": {
    "collapsed": false,
    "pycharm": {
     "name": "#%%\n"
    }
   }
  },
  {
   "cell_type": "code",
   "execution_count": 15,
   "outputs": [
    {
     "name": "stdout",
     "output_type": "stream",
     "text": [
      "Option price estimated with binomial model is 12.33$\n"
     ]
    }
   ],
   "source": [
    "print(f\"Option price estimated with binomial model is {round(derivatives.pricing(), 2)}$\")"
   ],
   "metadata": {
    "collapsed": false,
    "pycharm": {
     "name": "#%%\n"
    }
   }
  }
 ],
 "metadata": {
  "kernelspec": {
   "display_name": "Python 3",
   "language": "python",
   "name": "python3"
  },
  "language_info": {
   "codemirror_mode": {
    "name": "ipython",
    "version": 2
   },
   "file_extension": ".py",
   "mimetype": "text/x-python",
   "name": "python",
   "nbconvert_exporter": "python",
   "pygments_lexer": "ipython2",
   "version": "2.7.6"
  }
 },
 "nbformat": 4,
 "nbformat_minor": 0
}